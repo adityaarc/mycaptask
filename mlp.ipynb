import sys
import scipy
import pandas as pd
import numpy
import matplotlib
import sklearn

import pandas
from pandas.plotting import scatter_matrix
from matplotlib import pyplot as plt
from sklearn.model_selection import train_test_split
from sklearn.model_selection import cross_val_score
from sklearn.model_selection import StratifiedKFold
from sklearn.metrics import classification_report
from sklearn.metrics import confusion_matrix
from sklearn.metrics import accuracy_score
from sklearn.linear_model import LogisticRegression
from sklearn.tree import DecisionTreeClassifier
from sklearn.neighbors import KNeighborsClassifier
from sklearn.discriminant_analysis import LinearDiscriminantAnalysis
from sklearn.svm import SVC
from sklearn import model_selection
from sklearn.ensemble import VotingClassifier

df= pd.read_csv('iris.csv')

df.head()

df.shape

df.describe()

df['species'].value_counts()

df.plot(kind='box')
plt.show()

df.hist()
plt.show()

scatter_matrix(df)
plt.show()

array = df.values
X = array[:, 0:4]
Y = array[:, 4]
x_train,x_validation,y_train,y_validation =train_test_split(X,Y,test_size=0.2,random_state=1)

models = []
models.append(('LR',LogisticRegression(solver='liblinear',multi_class='ovr')))
models.append(('LDA' ,LinearDiscriminantAnalysis()))
models.append(('KNN',KNeighborsClassifier()))
models.append(('SVM',SVC(gamma='auto')))

results=[]
names = []
for name,model in models:
    kFold = StratifiedKFold(n_splits=10, random_state = 1)
    cv_results = cross_val_score(model,x_train,y_train,cv=kFold, scoring='accuracy')
    results.append(cv_results)
    names.append(name)
    print('%s : %f  (%f)' % (name,cv_results.mean(),cv_results.std()))
    
plt.boxplot(results,labels=names)
plt.show()

model= SVC(gamma='auto')
model.fit(x_train,y_train)
predictions=model.predict(x_validation)

print(accuracy_score(y_validation,predictions))
print(confusion_matrix(y_validation,predictions))
print(classification_report(y_validation,predictions))








