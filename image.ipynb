import numpy as np
import pandas as pd
from matplotlib import pyplot as plt
from sklearn.ensemble import RandomForestClassifier
from sklearn.model_selection import train_test_split
%matplotlib inline

data = pd.read_csv('mnist_train.csv')

data.tail()

a= data.iloc[2,1:].values

a=a.reshape(28,28).astype('uint8')
plt.imshow(a)

x=data.iloc[:,1:]
y = data.iloc[:,0]

x_train,x_test,y_train,y_test=train_test_split(x,y,test_size=0.2, random_state = 4)

y_train.head()

rf=RandomForestClassifier(n_estimators=100)

rf.fit(x_train,y_train)

pred=rf.predict(x_test)

s=y_test.values
count=0
for i in range(len(pred)):
    if pred[i]==s[i]:
        count=count+1
        
(count/len(pred))*100
